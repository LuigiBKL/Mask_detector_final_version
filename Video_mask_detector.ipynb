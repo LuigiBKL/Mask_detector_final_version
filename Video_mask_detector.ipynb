{
 "cells": [
  {
   "cell_type": "markdown",
   "metadata": {},
   "source": [
    "https://www.youtube.com/watch?v=70nZfwjYkpk"
   ]
  },
  {
   "cell_type": "code",
   "execution_count": 1,
   "metadata": {},
   "outputs": [],
   "source": [
    "import cv2\n",
    "from keras.models import load_model\n",
    "import numpy as np\n",
    "import playsound\n",
    "import time\n",
    "import vlc\n",
    "from sklearn.metrics import accuracy_score"
   ]
  },
  {
   "cell_type": "code",
   "execution_count": 2,
   "metadata": {},
   "outputs": [],
   "source": [
    "try:\n",
    "    model = load_model(\"C:/Users/utilisateur/Documents/microsoft_ia/Devoirs/Detecteur_des_masques/Mask_detector-main/model/model.h5\")\n",
    "except:\n",
    "    print(\"model non créé\")"
   ]
  },
  {
   "cell_type": "code",
   "execution_count": 3,
   "metadata": {},
   "outputs": [],
   "source": [
    "def detect_face_mask(img):\n",
    "    y_pred = model.predict_classes(img.reshape(1,224,224,3))\n",
    "    yy= model.predict(img.reshape(1,224,224,3))\n",
    "    return y_pred[0][0],yy\n",
    "\n",
    "\n",
    "def draw_label(img,text,pos,bg_color):\n",
    "    #text_size = cv2.getTextSize(text, cv2.FONT_HERSHEY_SIMPLEX,1,cv2.FILLED)\n",
    " \n",
    "    #end_X = pos[0] + text_size[0][0] + 2\n",
    "    #end_y = pos[1] + text_size[0][1] - 2\n",
    "    \n",
    "    cv2.rectangle(frame,(x,y),(x+w,y+h),(255,0,0),1)\n",
    "       \n",
    "    \n",
    "    cv2.putText(img,text,pos,cv2.FONT_HERSHEY_SIMPLEX,1,(0,0,0),1,cv2.LINE_AA)\n",
    "\n",
    "def song():\n",
    "    p = vlc.MediaPlayer(\"song/song.mp3\")\n",
    "    p.play()\n",
    "    time.sleep(1)\n",
    "    p.stop()\n",
    "\n",
    "haar = cv2.CascadeClassifier(\"C:/Users/utilisateur/Documents/microsoft_ia/Devoirs/Detecteur_des_masques/Mask_detector-main/ipynb/xml/haarcascade_frontalface_default.xml\")\n",
    "\n",
    "def detect_face(img):\n",
    "    \n",
    "    coods = haar.detectMultiScale(img)\n",
    "    return coods"
   ]
  },
  {
   "cell_type": "code",
   "execution_count": 4,
   "metadata": {},
   "outputs": [],
   "source": [
    "cap = cv2.VideoCapture(0)"
   ]
  },
  {
   "cell_type": "code",
   "execution_count": 5,
   "metadata": {},
   "outputs": [
    {
     "ename": "error",
     "evalue": "OpenCV(4.5.1) C:\\Users\\appveyor\\AppData\\Local\\Temp\\1\\pip-req-build-oduouqig\\opencv\\modules\\imgproc\\src\\resize.cpp:4051: error: (-215:Assertion failed) !ssize.empty() in function 'cv::resize'\n",
     "output_type": "error",
     "traceback": [
      "\u001b[1;31m---------------------------------------------------------------------------\u001b[0m",
      "\u001b[1;31merror\u001b[0m                                     Traceback (most recent call last)",
      "\u001b[1;32m<ipython-input-5-27c1c274eaf4>\u001b[0m in \u001b[0;36m<module>\u001b[1;34m\u001b[0m\n\u001b[0;32m      1\u001b[0m \u001b[1;32mwhile\u001b[0m \u001b[1;32mTrue\u001b[0m\u001b[1;33m:\u001b[0m\u001b[1;33m\u001b[0m\u001b[1;33m\u001b[0m\u001b[0m\n\u001b[0;32m      2\u001b[0m     \u001b[0mret\u001b[0m\u001b[1;33m,\u001b[0m\u001b[0mframe\u001b[0m \u001b[1;33m=\u001b[0m \u001b[0mcap\u001b[0m\u001b[1;33m.\u001b[0m\u001b[0mread\u001b[0m\u001b[1;33m(\u001b[0m\u001b[1;33m)\u001b[0m\u001b[1;33m\u001b[0m\u001b[1;33m\u001b[0m\u001b[0m\n\u001b[1;32m----> 3\u001b[1;33m     \u001b[0mframe\u001b[0m \u001b[1;33m=\u001b[0m \u001b[0mcv2\u001b[0m\u001b[1;33m.\u001b[0m\u001b[0mresize\u001b[0m\u001b[1;33m(\u001b[0m\u001b[0mframe\u001b[0m\u001b[1;33m,\u001b[0m\u001b[1;33m(\u001b[0m\u001b[1;36m224\u001b[0m\u001b[1;33m,\u001b[0m\u001b[1;36m224\u001b[0m\u001b[1;33m)\u001b[0m\u001b[1;33m)\u001b[0m\u001b[1;33m\u001b[0m\u001b[1;33m\u001b[0m\u001b[0m\n\u001b[0m\u001b[0;32m      4\u001b[0m     \u001b[0mcoods\u001b[0m \u001b[1;33m=\u001b[0m \u001b[0mdetect_face\u001b[0m\u001b[1;33m(\u001b[0m\u001b[0mcv2\u001b[0m\u001b[1;33m.\u001b[0m\u001b[0mcvtColor\u001b[0m\u001b[1;33m(\u001b[0m\u001b[0mframe\u001b[0m\u001b[1;33m,\u001b[0m\u001b[0mcv2\u001b[0m\u001b[1;33m.\u001b[0m\u001b[0mCOLOR_BGR2GRAY\u001b[0m\u001b[1;33m)\u001b[0m\u001b[1;33m)\u001b[0m\u001b[1;33m\u001b[0m\u001b[1;33m\u001b[0m\u001b[0m\n\u001b[0;32m      5\u001b[0m     \u001b[0my_pred\u001b[0m \u001b[1;33m,\u001b[0m \u001b[0myy\u001b[0m\u001b[1;33m=\u001b[0m \u001b[0mdetect_face_mask\u001b[0m\u001b[1;33m(\u001b[0m\u001b[0mframe\u001b[0m\u001b[1;33m)\u001b[0m\u001b[1;33m\u001b[0m\u001b[1;33m\u001b[0m\u001b[0m\n",
      "\u001b[1;31merror\u001b[0m: OpenCV(4.5.1) C:\\Users\\appveyor\\AppData\\Local\\Temp\\1\\pip-req-build-oduouqig\\opencv\\modules\\imgproc\\src\\resize.cpp:4051: error: (-215:Assertion failed) !ssize.empty() in function 'cv::resize'\n"
     ]
    }
   ],
   "source": [
    "while True:\n",
    "    ret,frame = cap.read()\n",
    "    frame = cv2.resize(frame,(224,224))\n",
    "    coods = detect_face(cv2.cvtColor(frame,cv2.COLOR_BGR2GRAY))\n",
    "    y_pred , yy= detect_face_mask(frame)\n",
    "    yy = round(yy[0][0],3)\n",
    "    label = \"{}: {:.2f}%\".format(yy * 100)\n",
    "    for x,y,w,h in coods:\n",
    "        \n",
    "        draw_label(frame,str(yy), (x,y),(0,255,0))\n",
    "\n",
    "    print(y_pred)\n",
    "    print(yy)\n",
    "    \n",
    "    print(\"=================================\")\n",
    "    \n",
    "    if y_pred == 0:\n",
    "        image = cv2.imread(\"image/no_fuck.png\")\n",
    "        image = cv2.putText(image, '', (50, 50), cv2.FONT_HERSHEY_SIMPLEX,  \n",
    "                        1, (255, 0, 0),2, cv2.LINE_AA)\n",
    "        cv2.imshow('emojie', image)\n",
    "        draw_label(frame,\"Mask\", (30,30),(0,255,0))\n",
    "        \n",
    "        \n",
    "    else:\n",
    "        \n",
    "        draw_label(frame,label, (x+1,y+1),(0,255,0))\n",
    "        \n",
    "        image = cv2.imread(\"image/fuck.png\")\n",
    "        image = cv2.putText(image, '', (50, 50), cv2.FONT_HERSHEY_SIMPLEX,  \n",
    "                        1, (255, 0, 0),2, cv2.LINE_AA)\n",
    "        song()\n",
    "        cv2.imshow('emojie', image)\n",
    "    \n",
    "    cv2.imshow(\"window\", frame)\n",
    "    \n",
    "    if cv2.waitKey(1) & 0xFF == ord('x'):\n",
    "        break\n",
    "cv2.destroyAllWindows()"
   ]
  },
  {
   "cell_type": "code",
   "execution_count": null,
   "metadata": {},
   "outputs": [],
   "source": []
  },
  {
   "cell_type": "code",
   "execution_count": null,
   "metadata": {},
   "outputs": [],
   "source": []
  },
  {
   "cell_type": "code",
   "execution_count": null,
   "metadata": {},
   "outputs": [],
   "source": []
  },
  {
   "cell_type": "code",
   "execution_count": null,
   "metadata": {},
   "outputs": [],
   "source": []
  }
 ],
 "metadata": {
  "kernelspec": {
   "display_name": "Python 3",
   "language": "python",
   "name": "python3"
  },
  "language_info": {
   "codemirror_mode": {
    "name": "ipython",
    "version": 3
   },
   "file_extension": ".py",
   "mimetype": "text/x-python",
   "name": "python",
   "nbconvert_exporter": "python",
   "pygments_lexer": "ipython3",
   "version": "3.7.9"
  }
 },
 "nbformat": 4,
 "nbformat_minor": 4
}
